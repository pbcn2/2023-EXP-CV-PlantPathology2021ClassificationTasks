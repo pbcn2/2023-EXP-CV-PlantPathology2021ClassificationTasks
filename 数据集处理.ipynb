{
 "cells": [
  {
   "cell_type": "code",
   "execution_count": 1,
   "metadata": {},
   "outputs": [],
   "source": [
    "import pandas as pd\n",
    "import os\n",
    "import shutil"
   ]
  },
  {
   "cell_type": "markdown",
   "metadata": {},
   "source": [
    "### 训练集"
   ]
  },
  {
   "cell_type": "code",
   "execution_count": 2,
   "metadata": {},
   "outputs": [
    {
     "name": "stdout",
     "output_type": "stream",
     "text": [
      "数据集转换完成！\n"
     ]
    }
   ],
   "source": [
    "# 路径设置\n",
    "source_folder = 'train\\images'  # 您的图片文件夹路径\n",
    "target_folder = '../dataset/train'  # 您想要存放新数据集的路径\n",
    "label_file = 'train/train_label.csv'  # 标签文件的路径\n",
    "\n",
    "# 读取标签数据\n",
    "labels_df = pd.read_csv(label_file)\n",
    "\n",
    "# 标签到文件夹名称的映射\n",
    "label_to_folder = {\n",
    "    \"complex\": \"100000\",\n",
    "    \"frog_eye_leaf_spot\": \"010000\",\n",
    "    \"healthy\": \"001000\",\n",
    "    \"powdery_mildew\": \"000100\",\n",
    "    \"rust\": \"000010\",\n",
    "    \"scab\": \"000001\"\n",
    "}\n",
    "\n",
    "# 创建目标文件夹\n",
    "if not os.path.exists(target_folder):\n",
    "    os.makedirs(target_folder)\n",
    "\n",
    "# 遍历每一行\n",
    "for index, row in labels_df.iterrows():\n",
    "    image_name = row['images']\n",
    "    image_labels = row['labels'].split()\n",
    "\n",
    "    # 对于每个标签，复制图片到相应的文件夹\n",
    "    for label in image_labels:\n",
    "        folder_name = label_to_folder.get(label, None)\n",
    "        if folder_name:\n",
    "            # 创建标签文件夹（如果不存在）\n",
    "            label_folder = os.path.join(target_folder, folder_name)\n",
    "            if not os.path.exists(label_folder):\n",
    "                os.makedirs(label_folder)\n",
    "            \n",
    "            # 源图片和目标路径\n",
    "            src_path = os.path.join(source_folder, image_name)\n",
    "            dst_path = os.path.join(label_folder, image_name)\n",
    "\n",
    "            # 复制图片\n",
    "            shutil.copy(src_path, dst_path)\n",
    "\n",
    "print(\"数据集转换完成！\")"
   ]
  },
  {
   "cell_type": "code",
   "execution_count": 3,
   "metadata": {},
   "outputs": [
    {
     "name": "stdout",
     "output_type": "stream",
     "text": [
      "One-hot 编码文件已生成！\n"
     ]
    }
   ],
   "source": [
    "# 路径设置\n",
    "original_label_file = 'train/train_label.csv'  # 原始标签文件路径\n",
    "output_file = 'train/OneHot-train_label.csv'  # 输出文件的路径\n",
    "\n",
    "# 读取原始标签数据\n",
    "original_labels_df = pd.read_csv(original_label_file)\n",
    "\n",
    "# 初始化 one-hot 编码列\n",
    "one_hot_encoded = pd.DataFrame({\n",
    "    'images': original_labels_df['images'],\n",
    "    'label_complex': 0,\n",
    "    'label_frog_eye_leaf_spot': 0,\n",
    "    'label_healthy': 0,\n",
    "    'label_powdery_mildew': 0,\n",
    "    'label_rust': 0,\n",
    "    'label_scab': 0\n",
    "})\n",
    "\n",
    "# 定义标签\n",
    "labels = {\n",
    "    \"complex\": \"label_complex\",\n",
    "    \"frog_eye_leaf_spot\": \"label_frog_eye_leaf_spot\",\n",
    "    \"healthy\": \"label_healthy\",\n",
    "    \"powdery_mildew\": \"label_powdery_mildew\",\n",
    "    \"rust\": \"label_rust\",\n",
    "    \"scab\": \"label_scab\"\n",
    "}\n",
    "\n",
    "# 转换为 one-hot 编码\n",
    "for index, row in original_labels_df.iterrows():\n",
    "    image_labels = row['labels'].split()\n",
    "    for label in image_labels:\n",
    "        if label in labels:\n",
    "            one_hot_encoded.at[index, labels[label]] = 1\n",
    "\n",
    "# 保存为 CSV 文件\n",
    "one_hot_encoded.to_csv(output_file, index=False)\n",
    "\n",
    "print(\"One-hot 编码文件已生成！\")\n"
   ]
  },
  {
   "cell_type": "markdown",
   "metadata": {},
   "source": [
    "### 验证集"
   ]
  },
  {
   "cell_type": "code",
   "execution_count": 4,
   "metadata": {},
   "outputs": [
    {
     "name": "stdout",
     "output_type": "stream",
     "text": [
      "数据集转换完成！\n"
     ]
    }
   ],
   "source": [
    "# 路径设置\n",
    "source_folder = 'val/images'  # 您的图片文件夹路径\n",
    "target_folder = '../dataset/val'  # 您想要存放新数据集的路径\n",
    "label_file = 'val/val_label.csv'  # 标签文件的路径\n",
    "\n",
    "# 读取标签数据\n",
    "labels_df = pd.read_csv(label_file)\n",
    "\n",
    "# 标签到文件夹名称的映射\n",
    "label_to_folder = {\n",
    "    \"complex\": \"100000\",\n",
    "    \"frog_eye_leaf_spot\": \"010000\",\n",
    "    \"healthy\": \"001000\",\n",
    "    \"powdery_mildew\": \"000100\",\n",
    "    \"rust\": \"000010\",\n",
    "    \"scab\": \"000001\"\n",
    "}\n",
    "\n",
    "# 创建目标文件夹\n",
    "if not os.path.exists(target_folder):\n",
    "    os.makedirs(target_folder)\n",
    "\n",
    "# 遍历每一行\n",
    "for index, row in labels_df.iterrows():\n",
    "    image_name = row['images']\n",
    "    image_labels = row['labels'].split()\n",
    "\n",
    "    # 对于每个标签，复制图片到相应的文件夹\n",
    "    for label in image_labels:\n",
    "        folder_name = label_to_folder.get(label, None)\n",
    "        if folder_name:\n",
    "            # 创建标签文件夹（如果不存在）\n",
    "            label_folder = os.path.join(target_folder, folder_name)\n",
    "            if not os.path.exists(label_folder):\n",
    "                os.makedirs(label_folder)\n",
    "            \n",
    "            # 源图片和目标路径\n",
    "            src_path = os.path.join(source_folder, image_name)\n",
    "            dst_path = os.path.join(label_folder, image_name)\n",
    "\n",
    "            # 复制图片\n",
    "            shutil.copy(src_path, dst_path)\n",
    "\n",
    "print(\"数据集转换完成！\")\n"
   ]
  },
  {
   "cell_type": "code",
   "execution_count": 5,
   "metadata": {},
   "outputs": [
    {
     "name": "stdout",
     "output_type": "stream",
     "text": [
      "One-hot 编码文件已生成！\n"
     ]
    }
   ],
   "source": [
    "# 路径设置\n",
    "original_label_file = 'val/val_label.csv'  # 原始标签文件路径\n",
    "output_file = 'val/OneHot-val_label.csv'  # 输出文件的路径\n",
    "\n",
    "# 读取原始标签数据\n",
    "original_labels_df = pd.read_csv(original_label_file)\n",
    "\n",
    "# 初始化 one-hot 编码列\n",
    "one_hot_encoded = pd.DataFrame({\n",
    "    'images': original_labels_df['images'],\n",
    "    'label_complex': 0,\n",
    "    'label_frog_eye_leaf_spot': 0,\n",
    "    'label_healthy': 0,\n",
    "    'label_powdery_mildew': 0,\n",
    "    'label_rust': 0,\n",
    "    'label_scab': 0\n",
    "})\n",
    "\n",
    "# 定义标签\n",
    "labels = {\n",
    "    \"complex\": \"label_complex\",\n",
    "    \"frog_eye_leaf_spot\": \"label_frog_eye_leaf_spot\",\n",
    "    \"healthy\": \"label_healthy\",\n",
    "    \"powdery_mildew\": \"label_powdery_mildew\",\n",
    "    \"rust\": \"label_rust\",\n",
    "    \"scab\": \"label_scab\"\n",
    "}\n",
    "\n",
    "# 转换为 one-hot 编码\n",
    "for index, row in original_labels_df.iterrows():\n",
    "    image_labels = row['labels'].split()\n",
    "    for label in image_labels:\n",
    "        if label in labels:\n",
    "            one_hot_encoded.at[index, labels[label]] = 1\n",
    "\n",
    "# 保存为 CSV 文件\n",
    "one_hot_encoded.to_csv(output_file, index=False)\n",
    "\n",
    "print(\"One-hot 编码文件已生成！\")\n"
   ]
  },
  {
   "cell_type": "markdown",
   "metadata": {},
   "source": [
    "## 测试集转换"
   ]
  },
  {
   "cell_type": "code",
   "execution_count": 6,
   "metadata": {},
   "outputs": [
    {
     "name": "stdout",
     "output_type": "stream",
     "text": [
      "数据集转换完成！\n"
     ]
    }
   ],
   "source": [
    "# 路径设置\n",
    "source_folder = 'test/images'  # 您的图片文件夹路径\n",
    "target_folder = '../dataset/test'  # 您想要存放新数据集的路径\n",
    "label_file = 'test/test_label.csv'  # 标签文件的路径\n",
    "\n",
    "# 读取标签数据\n",
    "labels_df = pd.read_csv(label_file)\n",
    "\n",
    "# 标签到文件夹名称的映射\n",
    "label_to_folder = {\n",
    "    \"complex\": \"100000\",\n",
    "    \"frog_eye_leaf_spot\": \"010000\",\n",
    "    \"healthy\": \"001000\",\n",
    "    \"powdery_mildew\": \"000100\",\n",
    "    \"rust\": \"000010\",\n",
    "    \"scab\": \"000001\"\n",
    "}\n",
    "\n",
    "# 创建目标文件夹\n",
    "if not os.path.exists(target_folder):\n",
    "    os.makedirs(target_folder)\n",
    "\n",
    "# 遍历每一行\n",
    "for index, row in labels_df.iterrows():\n",
    "    image_name = row['images']\n",
    "    image_labels = row['labels'].split()\n",
    "\n",
    "    # 对于每个标签，复制图片到相应的文件夹\n",
    "    for label in image_labels:\n",
    "        folder_name = label_to_folder.get(label, None)\n",
    "        if folder_name:\n",
    "            # 创建标签文件夹（如果不存在）\n",
    "            label_folder = os.path.join(target_folder, folder_name)\n",
    "            if not os.path.exists(label_folder):\n",
    "                os.makedirs(label_folder)\n",
    "            \n",
    "            # 源图片和目标路径\n",
    "            src_path = os.path.join(source_folder, image_name)\n",
    "            dst_path = os.path.join(label_folder, image_name)\n",
    "\n",
    "            # 复制图片\n",
    "            shutil.copy(src_path, dst_path)\n",
    "\n",
    "print(\"数据集转换完成！\")\n"
   ]
  },
  {
   "cell_type": "code",
   "execution_count": 7,
   "metadata": {},
   "outputs": [
    {
     "name": "stdout",
     "output_type": "stream",
     "text": [
      "One-hot 编码文件已生成！\n"
     ]
    }
   ],
   "source": [
    "# 路径设置\n",
    "original_label_file = 'test/test_label.csv'  # 原始标签文件路径\n",
    "output_file = 'test/OneHot-test_label.csv'  # 输出文件的路径\n",
    "\n",
    "# 读取原始标签数据\n",
    "original_labels_df = pd.read_csv(original_label_file)\n",
    "\n",
    "# 初始化 one-hot 编码列\n",
    "one_hot_encoded = pd.DataFrame({\n",
    "    'images': original_labels_df['images'],\n",
    "    'label_complex': 0,\n",
    "    'label_frog_eye_leaf_spot': 0,\n",
    "    'label_healthy': 0,\n",
    "    'label_powdery_mildew': 0,\n",
    "    'label_rust': 0,\n",
    "    'label_scab': 0\n",
    "})\n",
    "\n",
    "# 定义标签\n",
    "labels = {\n",
    "    \"complex\": \"label_complex\",\n",
    "    \"frog_eye_leaf_spot\": \"label_frog_eye_leaf_spot\",\n",
    "    \"healthy\": \"label_healthy\",\n",
    "    \"powdery_mildew\": \"label_powdery_mildew\",\n",
    "    \"rust\": \"label_rust\",\n",
    "    \"scab\": \"label_scab\"\n",
    "}\n",
    "\n",
    "# 转换为 one-hot 编码\n",
    "for index, row in original_labels_df.iterrows():\n",
    "    image_labels = row['labels'].split()\n",
    "    for label in image_labels:\n",
    "        if label in labels:\n",
    "            one_hot_encoded.at[index, labels[label]] = 1\n",
    "\n",
    "# 保存为 CSV 文件\n",
    "one_hot_encoded.to_csv(output_file, index=False)\n",
    "\n",
    "print(\"One-hot 编码文件已生成！\")\n"
   ]
  }
 ],
 "metadata": {
  "kernelspec": {
   "display_name": "Python 3",
   "language": "python",
   "name": "python3"
  },
  "language_info": {
   "codemirror_mode": {
    "name": "ipython",
    "version": 3
   },
   "file_extension": ".py",
   "mimetype": "text/x-python",
   "name": "python",
   "nbconvert_exporter": "python",
   "pygments_lexer": "ipython3",
   "version": "3.11.5"
  }
 },
 "nbformat": 4,
 "nbformat_minor": 2
}
